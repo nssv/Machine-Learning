{
  "nbformat": 4,
  "nbformat_minor": 0,
  "metadata": {
    "colab": {
      "name": "Untitled0.ipynb",
      "version": "0.3.2",
      "provenance": [],
      "include_colab_link": true
    },
    "kernelspec": {
      "name": "python3",
      "display_name": "Python 3"
    }
  },
  "cells": [
    {
      "cell_type": "markdown",
      "metadata": {
        "id": "view-in-github",
        "colab_type": "text"
      },
      "source": [
        "[View in Colaboratory](https://colab.research.google.com/github/nssv/Machine-Learning/blob/master/Un1.ipynb)"
      ]
    },
    {
      "metadata": {
        "id": "Skq80KGQS3wY",
        "colab_type": "code",
        "colab": {
          "base_uri": "https://localhost:8080/",
          "height": 233
        },
        "outputId": "902f17af-64ac-4e70-a554-b32a25c7967f"
      },
      "cell_type": "code",
      "source": [
        "import tensorflow as tf\n",
        "mnist = tf.keras.datasets.mnist\n",
        "\n",
        "(x_train, y_train),(x_test, y_test) = mnist.load_data()\n",
        "x_train, x_test = x_train / 255.0, x_test / 255.0\n",
        "\n",
        "model = tf.keras.models.Sequential([\n",
        "  tf.keras.layers.Flatten(),\n",
        "  tf.keras.layers.Dense(512, activation=tf.nn.relu),\n",
        "  tf.keras.layers.Dropout(0.2),\n",
        "  tf.keras.layers.Dense(10, activation=tf.nn.softmax)\n",
        "])\n",
        "model.compile(optimizer='adam',\n",
        "              loss='sparse_categorical_crossentropy',\n",
        "              metrics=['accuracy'])\n",
        "\n",
        "model.fit(x_train, y_train, epochs=5)\n",
        "model.evaluate(x_test, y_test)"
      ],
      "execution_count": 1,
      "outputs": [
        {
          "output_type": "stream",
          "text": [
            "Epoch 1/5\n",
            "60000/60000 [==============================] - 16s 269us/step - loss: 0.2195 - acc: 0.9355\n",
            "Epoch 2/5\n",
            "60000/60000 [==============================] - 15s 255us/step - loss: 0.0986 - acc: 0.9708\n",
            "Epoch 3/5\n",
            "60000/60000 [==============================] - 15s 255us/step - loss: 0.0683 - acc: 0.9786\n",
            "Epoch 4/5\n",
            "60000/60000 [==============================] - 15s 258us/step - loss: 0.0534 - acc: 0.9832\n",
            "Epoch 5/5\n",
            "60000/60000 [==============================] - 16s 273us/step - loss: 0.0434 - acc: 0.9862\n",
            "10000/10000 [==============================] - 1s 50us/step\n"
          ],
          "name": "stdout"
        },
        {
          "output_type": "execute_result",
          "data": {
            "text/plain": [
              "[0.07102241843277589, 0.9794]"
            ]
          },
          "metadata": {
            "tags": []
          },
          "execution_count": 1
        }
      ]
    }
  ]
}